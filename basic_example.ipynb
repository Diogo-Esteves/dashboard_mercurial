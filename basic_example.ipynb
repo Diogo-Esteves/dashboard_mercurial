{
 "cells": [
  {
   "cell_type": "raw",
   "id": "d2bc4bc7",
   "metadata": {},
   "source": [
    "---\n",
    "title: Finance dashboard example using Mercurial\n",
    "description: Dashboard with historical financial data.\n",
    "show-code: True\n",
    "params:\n",
    "    months:\n",
    "        input: text\n",
    "        value: 3mo\n",
    "        label: Time to fetch\n",
    "    ticker:\n",
    "        input: select\n",
    "        value: TSLA\n",
    "        label: Select ticker\n",
    "        choices: [\"TSLA\", \"MSFT\", \"AAPL\", \"SPY\"]\n",
    "---"
   ]
  },
  {
   "cell_type": "markdown",
   "id": "6d880b80",
   "metadata": {},
   "source": [
    "### Plotting the history of some company\n",
    "In order to Mercurial display the notebook it's necessary to add a cell with infos."
   ]
  },
  {
   "cell_type": "code",
   "execution_count": 3,
   "id": "6792b6b0",
   "metadata": {},
   "outputs": [],
   "source": [
    "import yfinance as yf\n",
    "import mplfinance as mpf"
   ]
  },
  {
   "cell_type": "code",
   "execution_count": 9,
   "id": "5b9422ac",
   "metadata": {},
   "outputs": [],
   "source": [
    "ticker = \"TSLA\" # company ticker\n",
    "months = \"3mo\"  # period of time to fetch"
   ]
  },
  {
   "cell_type": "code",
   "execution_count": 10,
   "id": "e767326c",
   "metadata": {},
   "outputs": [],
   "source": [
    "history = yf.Ticker(ticker).history(period=months)"
   ]
  },
  {
   "cell_type": "code",
   "execution_count": 11,
   "id": "a98ea5c5",
   "metadata": {},
   "outputs": [
    {
     "data": {
      "text/html": [
       "<div>\n",
       "<style scoped>\n",
       "    .dataframe tbody tr th:only-of-type {\n",
       "        vertical-align: middle;\n",
       "    }\n",
       "\n",
       "    .dataframe tbody tr th {\n",
       "        vertical-align: top;\n",
       "    }\n",
       "\n",
       "    .dataframe thead th {\n",
       "        text-align: right;\n",
       "    }\n",
       "</style>\n",
       "<table border=\"1\" class=\"dataframe\">\n",
       "  <thead>\n",
       "    <tr style=\"text-align: right;\">\n",
       "      <th></th>\n",
       "      <th>Open</th>\n",
       "      <th>High</th>\n",
       "      <th>Low</th>\n",
       "      <th>Close</th>\n",
       "      <th>Volume</th>\n",
       "      <th>Dividends</th>\n",
       "      <th>Stock Splits</th>\n",
       "    </tr>\n",
       "    <tr>\n",
       "      <th>Date</th>\n",
       "      <th></th>\n",
       "      <th></th>\n",
       "      <th></th>\n",
       "      <th></th>\n",
       "      <th></th>\n",
       "      <th></th>\n",
       "      <th></th>\n",
       "    </tr>\n",
       "  </thead>\n",
       "  <tbody>\n",
       "    <tr>\n",
       "      <th>2022-08-05</th>\n",
       "      <td>908.010010</td>\n",
       "      <td>913.820007</td>\n",
       "      <td>856.630005</td>\n",
       "      <td>864.510010</td>\n",
       "      <td>37655300</td>\n",
       "      <td>0</td>\n",
       "      <td>0</td>\n",
       "    </tr>\n",
       "    <tr>\n",
       "      <th>2022-08-08</th>\n",
       "      <td>885.000000</td>\n",
       "      <td>915.599976</td>\n",
       "      <td>867.260010</td>\n",
       "      <td>871.270020</td>\n",
       "      <td>32998000</td>\n",
       "      <td>0</td>\n",
       "      <td>0</td>\n",
       "    </tr>\n",
       "    <tr>\n",
       "      <th>2022-08-09</th>\n",
       "      <td>870.880005</td>\n",
       "      <td>877.190002</td>\n",
       "      <td>838.059998</td>\n",
       "      <td>850.000000</td>\n",
       "      <td>28748200</td>\n",
       "      <td>0</td>\n",
       "      <td>0</td>\n",
       "    </tr>\n",
       "    <tr>\n",
       "      <th>2022-08-10</th>\n",
       "      <td>891.200012</td>\n",
       "      <td>892.530029</td>\n",
       "      <td>850.109985</td>\n",
       "      <td>883.070007</td>\n",
       "      <td>31579300</td>\n",
       "      <td>0</td>\n",
       "      <td>0</td>\n",
       "    </tr>\n",
       "    <tr>\n",
       "      <th>2022-08-11</th>\n",
       "      <td>889.539978</td>\n",
       "      <td>894.710022</td>\n",
       "      <td>857.630005</td>\n",
       "      <td>860.619873</td>\n",
       "      <td>21033835</td>\n",
       "      <td>0</td>\n",
       "      <td>0</td>\n",
       "    </tr>\n",
       "  </tbody>\n",
       "</table>\n",
       "</div>"
      ],
      "text/plain": [
       "                  Open        High         Low       Close    Volume  \\\n",
       "Date                                                                   \n",
       "2022-08-05  908.010010  913.820007  856.630005  864.510010  37655300   \n",
       "2022-08-08  885.000000  915.599976  867.260010  871.270020  32998000   \n",
       "2022-08-09  870.880005  877.190002  838.059998  850.000000  28748200   \n",
       "2022-08-10  891.200012  892.530029  850.109985  883.070007  31579300   \n",
       "2022-08-11  889.539978  894.710022  857.630005  860.619873  21033835   \n",
       "\n",
       "            Dividends  Stock Splits  \n",
       "Date                                 \n",
       "2022-08-05          0             0  \n",
       "2022-08-08          0             0  \n",
       "2022-08-09          0             0  \n",
       "2022-08-10          0             0  \n",
       "2022-08-11          0             0  "
      ]
     },
     "execution_count": 11,
     "metadata": {},
     "output_type": "execute_result"
    }
   ],
   "source": [
    "# validating the data\n",
    "history.tail()"
   ]
  },
  {
   "cell_type": "code",
   "execution_count": 12,
   "id": "b2a64e36",
   "metadata": {},
   "outputs": [
    {
     "name": "stdout",
     "output_type": "stream",
     "text": [
      "3mo period of low: 620\n"
     ]
    }
   ],
   "source": [
    "# validating some data\n",
    "print(f\"{months} period of low: {history.Low.min().astype(int)}\")"
   ]
  },
  {
   "cell_type": "code",
   "execution_count": 13,
   "id": "2a0f04ff",
   "metadata": {},
   "outputs": [
    {
     "data": {
      "image/png": "[encoded data removed]",
      "text/plain": [
       "<Figure size 745.2x414 with 2 Axes>"
      ]
     },
     "metadata": {
      "needs_background": "light"
     },
     "output_type": "display_data"
    }
   ],
   "source": [
    "# plotting the data\n",
    "mpf.plot(history, type=\"candle\", mav=(7), figratio=(18, 10))"
   ]
  },
  {
   "cell_type": "code",
   "execution_count": null,
   "id": "4e8801c1",
   "metadata": {},
   "outputs": [],
   "source": []
  }
 ],
 "metadata": {
  "kernelspec": {
   "display_name": "Python 3 (ipykernel)",
   "language": "python",
   "name": "python3"
  },
  "language_info": {
   "codemirror_mode": {
    "name": "ipython",
    "version": 3
   },
   "file_extension": ".py",
   "mimetype": "text/x-python",
   "name": "python",
   "nbconvert_exporter": "python",
   "pygments_lexer": "ipython3",
   "version": "3.8.10"
  }
 },
 "nbformat": 4,
 "nbformat_minor": 5
}
